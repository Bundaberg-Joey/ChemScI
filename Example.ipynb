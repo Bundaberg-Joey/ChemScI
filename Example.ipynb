{
 "cells": [
  {
   "cell_type": "markdown",
   "id": "blank-ghost",
   "metadata": {},
   "source": [
    "# `chemsci` demonstration\n",
    "* A simple use case where an sklearn pipeline is constructed to predict if a given compound is able to inhibit HIV\n",
    "* The data used in this demonstration was taken from the [AIDS Antiviral Screen Data hosted by the NCI](https://wiki.nci.nih.gov/display/NCIDTPdata/AIDS+Antiviral+Screen+Data)\n",
    "___"
   ]
  },
  {
   "cell_type": "code",
   "execution_count": 1,
   "id": "editorial-shirt",
   "metadata": {},
   "outputs": [],
   "source": [
    "import pandas as pd\n",
    "\n",
    "from sklearn.ensemble import RandomForestClassifier\n",
    "from sklearn.model_selection import train_test_split\n",
    "from sklearn.metrics import accuracy_score\n",
    "from sklearn.pipeline import Pipeline\n",
    "\n",
    "from chemsci.factory import FeatureFactory"
   ]
  },
  {
   "cell_type": "code",
   "execution_count": 2,
   "id": "varying-greenhouse",
   "metadata": {},
   "outputs": [],
   "source": [
    "# load smiles strings and trget data\n",
    "\n",
    "df = pd.read_csv('HIV.csv')\n",
    "X = df['smiles']\n",
    "y = df['HIV_active']"
   ]
  },
  {
   "cell_type": "code",
   "execution_count": 3,
   "id": "respiratory-vanilla",
   "metadata": {},
   "outputs": [],
   "source": [
    "# split data into training and testing batches\n",
    "\n",
    "X_train, X_test, y_train, y_test = train_test_split(X, y, test_size=0.2, stratify=y)"
   ]
  },
  {
   "cell_type": "code",
   "execution_count": 4,
   "id": "surrounded-flour",
   "metadata": {},
   "outputs": [],
   "source": [
    "# create a pipeline containing the FEatureFactory\n",
    "\n",
    "pipe = Pipeline([\n",
    "    ('featuriser', FeatureFactory(converter='smiles', featuriser='ecfp_4_1024')),\n",
    "    ('model', RandomForestClassifier())\n",
    "])"
   ]
  },
  {
   "cell_type": "code",
   "execution_count": 5,
   "id": "egyptian-techno",
   "metadata": {},
   "outputs": [
    {
     "name": "stderr",
     "output_type": "stream",
     "text": [
      " 65%|██████▌   | 21483/32901 [00:06<00:03, 3189.44it/s]RDKit WARNING: [20:23:26] WARNING: not removing hydrogen atom without neighbors\n",
      "RDKit WARNING: [20:23:26] WARNING: not removing hydrogen atom without neighbors\n",
      "100%|██████████| 32901/32901 [00:10<00:00, 3109.91it/s]\n"
     ]
    },
    {
     "data": {
      "text/plain": [
       "Pipeline(steps=[('featuriser',\n",
       "                 Factory: Converter=<Boost.Python.function object at 0x5565ac12f880>, Featuriser=<chemsci.featurisers.MorganFingerprint object at 0x7f166fb648d0>.),\n",
       "                ('model', RandomForestClassifier())])"
      ]
     },
     "execution_count": 5,
     "metadata": {},
     "output_type": "execute_result"
    }
   ],
   "source": [
    "# fit pipeline model to training data\n",
    "\n",
    "pipe.fit(X_train, y_train)"
   ]
  },
  {
   "cell_type": "code",
   "execution_count": 6,
   "id": "incoming-grove",
   "metadata": {},
   "outputs": [
    {
     "name": "stderr",
     "output_type": "stream",
     "text": [
      "100%|██████████| 8226/8226 [00:02<00:00, 3034.35it/s]\n"
     ]
    },
    {
     "name": "stdout",
     "output_type": "stream",
     "text": [
      "Accuracy score of trained RandomForest is 0.973 %\n"
     ]
    }
   ],
   "source": [
    "# assess the model performance\n",
    "\n",
    "y_pred = pipe.predict(X_test)\n",
    "score = accuracy_score(y_test, y_pred)\n",
    "\n",
    "print(F'Accuracy score of trained RandomForest is {score:.3f} %')"
   ]
  },
  {
   "cell_type": "markdown",
   "id": "public-feelings",
   "metadata": {},
   "source": [
    "___"
   ]
  }
 ],
 "metadata": {
  "kernelspec": {
   "display_name": "Python 3",
   "language": "python",
   "name": "python3"
  },
  "language_info": {
   "codemirror_mode": {
    "name": "ipython",
    "version": 3
   },
   "file_extension": ".py",
   "mimetype": "text/x-python",
   "name": "python",
   "nbconvert_exporter": "python",
   "pygments_lexer": "ipython3",
   "version": "3.7.9"
  }
 },
 "nbformat": 4,
 "nbformat_minor": 5
}
